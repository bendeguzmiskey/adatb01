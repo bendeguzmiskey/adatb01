{
    "metadata": {
        "kernelspec": {
            "name": "SQL",
            "display_name": "SQL",
            "language": "sql"
        },
        "language_info": {
            "name": "sql",
            "version": ""
        }
    },
    "nbformat_minor": 2,
    "nbformat": 4,
    "cells": [
        {
            "cell_type": "markdown",
            "source": [
                "1.Feladat"
            ],
            "metadata": {
                "azdata_cell_guid": "04d83c94-6bc0-4303-9e6e-40ca00ea4d62"
            },
            "attachments": {}
        },
        {
            "cell_type": "code",
            "source": [
                ""
            ],
            "metadata": {
                "azdata_cell_guid": "4fec4edd-d532-40ec-91a2-f1ea7a05a6d5",
                "language": "sql"
            },
            "outputs": [],
            "execution_count": null
        },
        {
            "cell_type": "markdown",
            "source": [
                "2.Feladat"
            ],
            "metadata": {
                "azdata_cell_guid": "b134ff80-07aa-4303-a0a3-0724ff153296"
            },
            "attachments": {}
        },
        {
            "cell_type": "code",
            "source": [
                ""
            ],
            "metadata": {
                "azdata_cell_guid": "1510344e-25fc-4100-a38c-6211b004ddeb",
                "language": "sql"
            },
            "outputs": [],
            "execution_count": null
        },
        {
            "cell_type": "markdown",
            "source": [
                "3.Feladat"
            ],
            "metadata": {
                "azdata_cell_guid": "afac05fe-65f7-4cf1-a578-90677ad089f5"
            },
            "attachments": {}
        },
        {
            "cell_type": "code",
            "source": [
                ""
            ],
            "metadata": {
                "azdata_cell_guid": "8f81501f-d2d7-49c8-9f21-9b2ae6358ab5",
                "language": "sql"
            },
            "outputs": [],
            "execution_count": null
        }
    ]
}