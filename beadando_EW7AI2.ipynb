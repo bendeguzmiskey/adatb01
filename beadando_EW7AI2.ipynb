{
    "metadata": {
        "kernelspec": {
            "name": "SQL",
            "display_name": "SQL",
            "language": "sql"
        },
        "language_info": {
            "name": "sql",
            "version": ""
        }
    },
    "nbformat_minor": 2,
    "nbformat": 4,
    "cells": [
        {
            "cell_type": "markdown",
            "source": [
                "Házi feladat - Miskey Bendegúz/EW7AI2"
            ],
            "metadata": {
                "azdata_cell_guid": "901bb4d4-3f05-48f5-90ba-6b814d28e94b"
            },
            "attachments": {}
        },
        {
            "cell_type": "markdown",
            "source": [
                "A feladatokhoz a diakmunka c. adatbázist használtam fel."
            ],
            "metadata": {
                "azdata_cell_guid": "2e40b6d0-cdb6-457b-9351-a24c19e785d6"
            },
            "attachments": {}
        },
        {
            "cell_type": "markdown",
            "source": [
                "1\\. Feladat:\n",
                "\n",
                "<span style=\"color: var(--vscode-foreground);\">A munka tábla oradij oszlopához az alábbi lekérdezésket készítettem el:</span>\n",
                "\n",
                "- <span style=\"color: var(--vscode-foreground);\">Azoknak a soroknak a száma amelyben használható érték (Nem NULL érték) található</span>\n",
                "- <span style=\"color: var(--vscode-foreground);\">Az értékek minimuma</span>\n",
                "- <span style=\"color: var(--vscode-foreground);\">Az értékek maximuma</span>\n",
                "- <span style=\"color: var(--vscode-foreground);\">Az értékek átlaga</span>\n",
                "- <span style=\"color: var(--vscode-foreground);\">Az értékeke szórása</span>"
            ],
            "metadata": {
                "azdata_cell_guid": "31208387-b29e-4cd7-984a-b6284669c960"
            },
            "attachments": {}
        },
        {
            "cell_type": "code",
            "source": [
                "SELECT\r\n",
                "       COUNT(*) AS 'Nem null értékek száma', \r\n",
                "       MIN(oradij) AS 'Minimum érték', \r\n",
                "       MAX(oradij) AS 'Maximum érték', \r\n",
                "       AVG(oradij) AS 'Átlagos érték', \r\n",
                "       Round(STDEV(oradij),0) AS 'Szórás (egészre kerekítve)'\r\n",
                "FROM munka\r\n",
                "WHERE oradij IS NOT NULL"
            ],
            "metadata": {
                "azdata_cell_guid": "a827e443-b3ac-4e9f-9468-3b2a34a82f86",
                "language": "sql",
                "tags": []
            },
            "outputs": [
                {
                    "output_type": "display_data",
                    "data": {
                        "text/html": "(1 row affected)"
                    },
                    "metadata": {}
                },
                {
                    "output_type": "display_data",
                    "data": {
                        "text/html": "Total execution time: 00:00:00.014"
                    },
                    "metadata": {}
                },
                {
                    "output_type": "execute_result",
                    "execution_count": 2,
                    "data": {
                        "application/vnd.dataresource+json": {
                            "schema": {
                                "fields": [
                                    {
                                        "name": "Nem null értékek száma"
                                    },
                                    {
                                        "name": "Minimum érték"
                                    },
                                    {
                                        "name": "Maximum érték"
                                    },
                                    {
                                        "name": "Átlagos érték"
                                    },
                                    {
                                        "name": "Szórás"
                                    }
                                ]
                            },
                            "data": [
                                {
                                    "Nem null értékek száma": "41",
                                    "Minimum érték": "200",
                                    "Maximum érték": "500",
                                    "Átlagos érték": "346",
                                    "Szórás": "82"
                                }
                            ]
                        },
                        "text/html": "<table><tr><th>Nem null értékek száma</th><th>Minimum érték</th><th>Maximum érték</th><th>Átlagos érték</th><th>Szórás</th></tr><tr><td>41</td><td>200</td><td>500</td><td>346</td><td>82</td></tr></table>"
                    },
                    "metadata": {
                        "azdata_chartOptions": {
                            "type": "bar",
                            "dataDirection": "vertical",
                            "columnsAsLabels": true,
                            "labelFirstColumn": false,
                            "legendPosition": "top"
                        }
                    }
                }
            ],
            "execution_count": 2
        },
        {
            "cell_type": "markdown",
            "source": [
                "2\\. Feladat:\n",
                "\n",
                "A munka tábla allas oszlopához az alábbi lekérdezéseket készítettem el:\n",
                "\n",
                "- Az értékek között szereplő legrövidebb string karakterszám szerint, azokban a sorokban ahol az érték nem NULL\n",
                "- Az értékek között szereplő leghosszabb string karakterszám szerint, azokban a sorokban ahol az érték nem NULL\n",
                "- A stringek átlagos hossza karakterszám szerint, azokban a sorokban ahol az érték nem NULL\n",
                "- Végezetül pedig megvizsgáltam a sorok értékeinek fajtáját, NULL, empty és not empty szempontok alapján"
            ],
            "metadata": {
                "azdata_cell_guid": "f4353822-4fe5-4735-b2c0-67b1874718d5"
            },
            "attachments": {}
        },
        {
            "cell_type": "code",
            "source": [
                "SELECT \r\n",
                "       MIN(LEN(allas)) AS 'Legrövidebb string karakterszáma', \r\n",
                "       MAX(LEN(allas)) AS 'Leghosszabb string karakterszáma', \r\n",
                "       AVG(LEN(allas)) AS 'A stringek átlagos hossza'\r\n",
                "FROM munka\r\n",
                "WHERE allas IS NOT NULL\r\n",
                "AND LEN(allas) > 0"
            ],
            "metadata": {
                "azdata_cell_guid": "291a0768-3e04-4963-9bbc-0128b15162c5",
                "language": "sql"
            },
            "outputs": [
                {
                    "output_type": "display_data",
                    "data": {
                        "text/html": "(1 row affected)"
                    },
                    "metadata": {}
                },
                {
                    "output_type": "display_data",
                    "data": {
                        "text/html": "Total execution time: 00:00:00.015"
                    },
                    "metadata": {}
                },
                {
                    "output_type": "execute_result",
                    "execution_count": 4,
                    "data": {
                        "application/vnd.dataresource+json": {
                            "schema": {
                                "fields": [
                                    {
                                        "name": "Legrövidebb string karakterszáma"
                                    },
                                    {
                                        "name": "Leghosszabb string karakterszáma"
                                    },
                                    {
                                        "name": "A stringek átlagos hossza"
                                    }
                                ]
                            },
                            "data": [
                                {
                                    "Legrövidebb string karakterszáma": "5",
                                    "Leghosszabb string karakterszáma": "26",
                                    "A stringek átlagos hossza": "7"
                                }
                            ]
                        },
                        "text/html": "<table><tr><th>Legrövidebb string karakterszáma</th><th>Leghosszabb string karakterszáma</th><th>A stringek átlagos hossza</th></tr><tr><td>5</td><td>26</td><td>7</td></tr></table>"
                    },
                    "metadata": {
                        "azdata_chartOptions": {
                            "type": "horizontalBar",
                            "dataDirection": "horizontal",
                            "columnsAsLabels": true,
                            "labelFirstColumn": false,
                            "legendPosition": "none"
                        }
                    }
                }
            ],
            "execution_count": 4
        },
        {
            "cell_type": "code",
            "source": [
                "SELECT \r\n",
                "    CASE WHEN allas IS NULL THEN 'Null'\r\n",
                "            WHEN LEN(allas) = 0 THEN 'Empty'\r\n",
                "            ELSE 'Non Empty' \r\n",
                "    END AS 'Oszlop típusa',\r\n",
                "    COUNT(*) AS 'Az értékek száma'\r\n",
                "FROM munka\r\n",
                "GROUP BY CASE WHEN allas IS NULL THEN 'Null'\r\n",
                "            WHEN LEN(allas) = 0 THEN 'Empty'\r\n",
                "            ELSE 'Non Empty' \r\n",
                "         END"
            ],
            "metadata": {
                "azdata_cell_guid": "f75c9d87-1172-43fb-b0ee-90aca80e0ca8",
                "language": "sql"
            },
            "outputs": [
                {
                    "output_type": "display_data",
                    "data": {
                        "text/html": "(1 row affected)"
                    },
                    "metadata": {}
                },
                {
                    "output_type": "display_data",
                    "data": {
                        "text/html": "Total execution time: 00:00:00.013"
                    },
                    "metadata": {}
                },
                {
                    "output_type": "execute_result",
                    "execution_count": 6,
                    "data": {
                        "application/vnd.dataresource+json": {
                            "schema": {
                                "fields": [
                                    {
                                        "name": "Oszlop típusa"
                                    },
                                    {
                                        "name": "Az értékek száma"
                                    }
                                ]
                            },
                            "data": [
                                {
                                    "Oszlop típusa": "Non Empty",
                                    "Az értékek száma": "41"
                                }
                            ]
                        },
                        "text/html": "<table><tr><th>Oszlop típusa</th><th>Az értékek száma</th></tr><tr><td>Non Empty</td><td>41</td></tr></table>"
                    },
                    "metadata": {
                        "azdata_chartOptions": {
                            "type": "pie",
                            "dataDirection": "horizontal",
                            "columnsAsLabels": true,
                            "labelFirstColumn": true,
                            "legendPosition": "top"
                        }
                    }
                }
            ],
            "execution_count": 6
        }
    ]
}