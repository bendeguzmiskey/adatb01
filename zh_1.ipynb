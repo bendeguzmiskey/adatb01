{
    "metadata": {
        "kernelspec": {
            "name": "SQL",
            "display_name": "SQL",
            "language": "sql"
        },
        "language_info": {
            "name": "sql",
            "version": ""
        }
    },
    "nbformat_minor": 2,
    "nbformat": 4,
    "cells": [
        {
            "cell_type": "code",
            "source": [
                ""
            ],
            "metadata": {
                "azdata_cell_guid": "eace9ffa-5ed9-4e44-8311-372e42911756",
                "language": "sql"
            },
            "outputs": [],
            "execution_count": null
        }
    ]
}