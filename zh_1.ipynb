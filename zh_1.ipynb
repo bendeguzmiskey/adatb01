{
    "metadata": {
        "kernelspec": {
            "name": "SQL",
            "display_name": "SQL",
            "language": "sql"
        },
        "language_info": {
            "name": "sql",
            "version": ""
        }
    },
    "nbformat_minor": 2,
    "nbformat": 4,
    "cells": [
        {
            "cell_type": "markdown",
            "source": [
                "1.Feladat"
            ],
            "metadata": {
                "azdata_cell_guid": "612560ba-2a40-4862-b2d5-1ba8610a91a3"
            },
            "attachments": {}
        },
        {
            "cell_type": "code",
            "source": [
                "SELECT\r\n",
                "    FOGLALAS_PK as 'Foglalás azonosító',\r\n",
                "    METTOL as 'Foglalás kezdeti dátum',\r\n",
                "    DATEADD(MONTH,1,METTOL) as 'Módosított kezdődátum'\r\n",
                "FROM Foglalas\r\n",
                "WHERE UGYFEL_FK = 'emese'"
            ],
            "metadata": {
                "azdata_cell_guid": "9721f484-2092-48da-ac2a-caea7c59cb69",
                "language": "sql"
            },
            "outputs": [
                {
                    "output_type": "display_data",
                    "data": {
                        "text/html": "(7 rows affected)"
                    },
                    "metadata": {}
                },
                {
                    "output_type": "display_data",
                    "data": {
                        "text/html": "Total execution time: 00:00:00.004"
                    },
                    "metadata": {}
                },
                {
                    "output_type": "execute_result",
                    "metadata": {},
                    "execution_count": 3,
                    "data": {
                        "application/vnd.dataresource+json": {
                            "schema": {
                                "fields": [
                                    {
                                        "name": "Foglalás azonosító"
                                    },
                                    {
                                        "name": "Foglalás kezdeti dátum"
                                    },
                                    {
                                        "name": "Módosított kezdődátum"
                                    }
                                ]
                            },
                            "data": [
                                {
                                    "Foglalás azonosító": "706",
                                    "Foglalás kezdeti dátum": "2016-07-22",
                                    "Módosított kezdődátum": "2016-08-22"
                                },
                                {
                                    "Foglalás azonosító": "765",
                                    "Foglalás kezdeti dátum": "2016-08-09",
                                    "Módosított kezdődátum": "2016-09-09"
                                },
                                {
                                    "Foglalás azonosító": "1083",
                                    "Foglalás kezdeti dátum": "2016-09-27",
                                    "Módosított kezdődátum": "2016-10-27"
                                },
                                {
                                    "Foglalás azonosító": "1250",
                                    "Foglalás kezdeti dátum": "2016-11-05",
                                    "Módosított kezdődátum": "2016-12-05"
                                },
                                {
                                    "Foglalás azonosító": "1313",
                                    "Foglalás kezdeti dátum": "2016-11-23",
                                    "Módosított kezdődátum": "2016-12-23"
                                },
                                {
                                    "Foglalás azonosító": "1354",
                                    "Foglalás kezdeti dátum": "2016-12-07",
                                    "Módosított kezdődátum": "2017-01-07"
                                },
                                {
                                    "Foglalás azonosító": "1484",
                                    "Foglalás kezdeti dátum": "2017-01-30",
                                    "Módosított kezdődátum": "2017-02-28"
                                }
                            ]
                        },
                        "text/html": [
                            "<table>",
                            "<tr><th>Foglalás azonosító</th><th>Foglalás kezdeti dátum</th><th>Módosított kezdődátum</th></tr>",
                            "<tr><td>706</td><td>2016-07-22</td><td>2016-08-22</td></tr>",
                            "<tr><td>765</td><td>2016-08-09</td><td>2016-09-09</td></tr>",
                            "<tr><td>1083</td><td>2016-09-27</td><td>2016-10-27</td></tr>",
                            "<tr><td>1250</td><td>2016-11-05</td><td>2016-12-05</td></tr>",
                            "<tr><td>1313</td><td>2016-11-23</td><td>2016-12-23</td></tr>",
                            "<tr><td>1354</td><td>2016-12-07</td><td>2017-01-07</td></tr>",
                            "<tr><td>1484</td><td>2017-01-30</td><td>2017-02-28</td></tr>",
                            "</table>"
                        ]
                    }
                }
            ],
            "execution_count": 3
        },
        {
            "cell_type": "markdown",
            "source": [
                "2.Feladat"
            ],
            "metadata": {
                "azdata_cell_guid": "ff0a235a-21f6-460f-bbc9-76b587204300"
            },
            "attachments": {}
        },
        {
            "cell_type": "code",
            "source": [
                "SELECT\r\n",
                "    SZOBA_FK as 'Szoba',\r\n",
                "    COUNT(*) as 'Foglalásszám'\r\n",
                "FROM Foglalas\r\n",
                "WHERE FELNOTT_SZAM > GYERMEK_SZAM\r\n",
                "GROUP BY SZOBA_FK\r\n",
                "HAVING COUNT(*) >=2\r\n",
                "ORDER BY 2 ASC"
            ],
            "metadata": {
                "azdata_cell_guid": "2d6dfa83-0138-4ee1-ba99-cd9f5c1f3369",
                "language": "sql"
            },
            "outputs": [
                {
                    "output_type": "display_data",
                    "data": {
                        "text/html": "(165 rows affected)"
                    },
                    "metadata": {}
                },
                {
                    "output_type": "display_data",
                    "data": {
                        "text/html": "Total execution time: 00:00:00.047"
                    },
                    "metadata": {}
                },
                {
                    "output_type": "execute_result",
                    "metadata": {},
                    "execution_count": 4,
                    "data": {
                        "application/vnd.dataresource+json": {
                            "schema": {
                                "fields": [
                                    {
                                        "name": "Szoba"
                                    },
                                    {
                                        "name": "Foglalásszám"
                                    }
                                ]
                            },
                            "data": [
                                {
                                    "Szoba": "2",
                                    "Foglalásszám": "2"
                                },
                                {
                                    "Szoba": "5",
                                    "Foglalásszám": "2"
                                },
                                {
                                    "Szoba": "17",
                                    "Foglalásszám": "2"
                                },
                                {
                                    "Szoba": "22",
                                    "Foglalásszám": "2"
                                },
                                {
                                    "Szoba": "30",
                                    "Foglalásszám": "2"
                                },
                                {
                                    "Szoba": "37",
                                    "Foglalásszám": "2"
                                },
                                {
                                    "Szoba": "47",
                                    "Foglalásszám": "2"
                                },
                                {
                                    "Szoba": "71",
                                    "Foglalásszám": "2"
                                },
                                {
                                    "Szoba": "72",
                                    "Foglalásszám": "2"
                                },
                                {
                                    "Szoba": "75",
                                    "Foglalásszám": "2"
                                },
                                {
                                    "Szoba": "76",
                                    "Foglalásszám": "2"
                                },
                                {
                                    "Szoba": "67",
                                    "Foglalásszám": "2"
                                },
                                {
                                    "Szoba": "69",
                                    "Foglalásszám": "2"
                                },
                                {
                                    "Szoba": "85",
                                    "Foglalásszám": "2"
                                },
                                {
                                    "Szoba": "91",
                                    "Foglalásszám": "2"
                                },
                                {
                                    "Szoba": "100",
                                    "Foglalásszám": "2"
                                },
                                {
                                    "Szoba": "109",
                                    "Foglalásszám": "2"
                                },
                                {
                                    "Szoba": "113",
                                    "Foglalásszám": "2"
                                },
                                {
                                    "Szoba": "118",
                                    "Foglalásszám": "2"
                                },
                                {
                                    "Szoba": "120",
                                    "Foglalásszám": "2"
                                },
                                {
                                    "Szoba": "136",
                                    "Foglalásszám": "2"
                                },
                                {
                                    "Szoba": "137",
                                    "Foglalásszám": "2"
                                },
                                {
                                    "Szoba": "144",
                                    "Foglalásszám": "2"
                                },
                                {
                                    "Szoba": "145",
                                    "Foglalásszám": "2"
                                },
                                {
                                    "Szoba": "151",
                                    "Foglalásszám": "2"
                                },
                                {
                                    "Szoba": "156",
                                    "Foglalásszám": "2"
                                },
                                {
                                    "Szoba": "157",
                                    "Foglalásszám": "2"
                                },
                                {
                                    "Szoba": "160",
                                    "Foglalásszám": "2"
                                },
                                {
                                    "Szoba": "162",
                                    "Foglalásszám": "2"
                                },
                                {
                                    "Szoba": "167",
                                    "Foglalásszám": "2"
                                },
                                {
                                    "Szoba": "176",
                                    "Foglalásszám": "2"
                                },
                                {
                                    "Szoba": "179",
                                    "Foglalásszám": "2"
                                },
                                {
                                    "Szoba": "188",
                                    "Foglalásszám": "2"
                                },
                                {
                                    "Szoba": "193",
                                    "Foglalásszám": "2"
                                },
                                {
                                    "Szoba": "196",
                                    "Foglalásszám": "2"
                                },
                                {
                                    "Szoba": "191",
                                    "Foglalásszám": "3"
                                },
                                {
                                    "Szoba": "183",
                                    "Foglalásszám": "3"
                                },
                                {
                                    "Szoba": "173",
                                    "Foglalásszám": "3"
                                },
                                {
                                    "Szoba": "166",
                                    "Foglalásszám": "3"
                                },
                                {
                                    "Szoba": "175",
                                    "Foglalásszám": "3"
                                },
                                {
                                    "Szoba": "169",
                                    "Foglalásszám": "3"
                                },
                                {
                                    "Szoba": "170",
                                    "Foglalásszám": "3"
                                },
                                {
                                    "Szoba": "161",
                                    "Foglalásszám": "3"
                                },
                                {
                                    "Szoba": "158",
                                    "Foglalásszám": "3"
                                },
                                {
                                    "Szoba": "152",
                                    "Foglalásszám": "3"
                                },
                                {
                                    "Szoba": "154",
                                    "Foglalásszám": "3"
                                },
                                {
                                    "Szoba": "155",
                                    "Foglalásszám": "3"
                                },
                                {
                                    "Szoba": "146",
                                    "Foglalásszám": "3"
                                },
                                {
                                    "Szoba": "135",
                                    "Foglalásszám": "3"
                                },
                                {
                                    "Szoba": "122",
                                    "Foglalásszám": "3"
                                },
                                {
                                    "Szoba": "129",
                                    "Foglalásszám": "3"
                                },
                                {
                                    "Szoba": "104",
                                    "Foglalásszám": "3"
                                },
                                {
                                    "Szoba": "90",
                                    "Foglalásszám": "3"
                                },
                                {
                                    "Szoba": "66",
                                    "Foglalásszám": "3"
                                },
                                {
                                    "Szoba": "84",
                                    "Foglalásszám": "3"
                                },
                                {
                                    "Szoba": "93",
                                    "Foglalásszám": "3"
                                },
                                {
                                    "Szoba": "95",
                                    "Foglalásszám": "3"
                                },
                                {
                                    "Szoba": "81",
                                    "Foglalásszám": "3"
                                },
                                {
                                    "Szoba": "77",
                                    "Foglalásszám": "3"
                                },
                                {
                                    "Szoba": "78",
                                    "Foglalásszám": "3"
                                },
                                {
                                    "Szoba": "50",
                                    "Foglalásszám": "3"
                                },
                                {
                                    "Szoba": "51",
                                    "Foglalásszám": "3"
                                },
                                {
                                    "Szoba": "46",
                                    "Foglalásszám": "3"
                                },
                                {
                                    "Szoba": "55",
                                    "Foglalásszám": "3"
                                },
                                {
                                    "Szoba": "57",
                                    "Foglalásszám": "3"
                                },
                                {
                                    "Szoba": "62",
                                    "Foglalásszám": "3"
                                },
                                {
                                    "Szoba": "63",
                                    "Foglalásszám": "3"
                                },
                                {
                                    "Szoba": "29",
                                    "Foglalásszám": "3"
                                },
                                {
                                    "Szoba": "40",
                                    "Foglalásszám": "3"
                                },
                                {
                                    "Szoba": "33",
                                    "Foglalásszám": "3"
                                },
                                {
                                    "Szoba": "34",
                                    "Foglalásszám": "3"
                                },
                                {
                                    "Szoba": "23",
                                    "Foglalásszám": "3"
                                },
                                {
                                    "Szoba": "24",
                                    "Foglalásszám": "3"
                                },
                                {
                                    "Szoba": "18",
                                    "Foglalásszám": "3"
                                },
                                {
                                    "Szoba": "14",
                                    "Foglalásszám": "3"
                                },
                                {
                                    "Szoba": "3",
                                    "Foglalásszám": "3"
                                },
                                {
                                    "Szoba": "9",
                                    "Foglalásszám": "4"
                                },
                                {
                                    "Szoba": "10",
                                    "Foglalásszám": "4"
                                },
                                {
                                    "Szoba": "11",
                                    "Foglalásszám": "4"
                                },
                                {
                                    "Szoba": "15",
                                    "Foglalásszám": "4"
                                },
                                {
                                    "Szoba": "19",
                                    "Foglalásszám": "4"
                                },
                                {
                                    "Szoba": "36",
                                    "Foglalásszám": "4"
                                },
                                {
                                    "Szoba": "39",
                                    "Foglalásszám": "4"
                                },
                                {
                                    "Szoba": "13",
                                    "Foglalásszám": "4"
                                },
                                {
                                    "Szoba": "59",
                                    "Foglalásszám": "4"
                                },
                                {
                                    "Szoba": "61",
                                    "Foglalásszám": "4"
                                },
                                {
                                    "Szoba": "54",
                                    "Foglalásszám": "4"
                                },
                                {
                                    "Szoba": "45",
                                    "Foglalásszám": "4"
                                },
                                {
                                    "Szoba": "43",
                                    "Foglalásszám": "4"
                                },
                                {
                                    "Szoba": "79",
                                    "Foglalásszám": "4"
                                },
                                {
                                    "Szoba": "73",
                                    "Foglalásszám": "4"
                                },
                                {
                                    "Szoba": "86",
                                    "Foglalásszám": "4"
                                },
                                {
                                    "Szoba": "98",
                                    "Foglalásszám": "4"
                                },
                                {
                                    "Szoba": "99",
                                    "Foglalásszám": "4"
                                },
                                {
                                    "Szoba": "106",
                                    "Foglalásszám": "4"
                                },
                                {
                                    "Szoba": "107",
                                    "Foglalásszám": "4"
                                },
                                {
                                    "Szoba": "124",
                                    "Foglalásszám": "4"
                                },
                                {
                                    "Szoba": "126",
                                    "Foglalásszám": "4"
                                },
                                {
                                    "Szoba": "119",
                                    "Foglalásszám": "4"
                                },
                                {
                                    "Szoba": "112",
                                    "Foglalásszám": "4"
                                },
                                {
                                    "Szoba": "117",
                                    "Foglalásszám": "4"
                                },
                                {
                                    "Szoba": "141",
                                    "Foglalásszám": "4"
                                },
                                {
                                    "Szoba": "131",
                                    "Foglalásszám": "4"
                                },
                                {
                                    "Szoba": "132",
                                    "Foglalásszám": "4"
                                },
                                {
                                    "Szoba": "133",
                                    "Foglalásszám": "4"
                                },
                                {
                                    "Szoba": "134",
                                    "Foglalásszám": "4"
                                },
                                {
                                    "Szoba": "153",
                                    "Foglalásszám": "4"
                                },
                                {
                                    "Szoba": "164",
                                    "Foglalásszám": "4"
                                },
                                {
                                    "Szoba": "174",
                                    "Foglalásszám": "4"
                                },
                                {
                                    "Szoba": "184",
                                    "Foglalásszám": "4"
                                },
                                {
                                    "Szoba": "190",
                                    "Foglalásszám": "5"
                                },
                                {
                                    "Szoba": "195",
                                    "Foglalásszám": "5"
                                },
                                {
                                    "Szoba": "181",
                                    "Foglalásszám": "5"
                                },
                                {
                                    "Szoba": "165",
                                    "Foglalásszám": "5"
                                },
                                {
                                    "Szoba": "163",
                                    "Foglalásszám": "5"
                                },
                                {
                                    "Szoba": "171",
                                    "Foglalásszám": "5"
                                },
                                {
                                    "Szoba": "138",
                                    "Foglalásszám": "5"
                                },
                                {
                                    "Szoba": "143",
                                    "Foglalásszám": "5"
                                },
                                {
                                    "Szoba": "140",
                                    "Foglalásszám": "5"
                                },
                                {
                                    "Szoba": "148",
                                    "Foglalásszám": "5"
                                },
                                {
                                    "Szoba": "149",
                                    "Foglalásszám": "5"
                                },
                                {
                                    "Szoba": "115",
                                    "Foglalásszám": "5"
                                },
                                {
                                    "Szoba": "110",
                                    "Foglalásszám": "5"
                                },
                                {
                                    "Szoba": "127",
                                    "Foglalásszám": "5"
                                },
                                {
                                    "Szoba": "130",
                                    "Foglalásszám": "5"
                                },
                                {
                                    "Szoba": "123",
                                    "Foglalásszám": "5"
                                },
                                {
                                    "Szoba": "121",
                                    "Foglalásszám": "5"
                                },
                                {
                                    "Szoba": "97",
                                    "Foglalásszám": "5"
                                },
                                {
                                    "Szoba": "92",
                                    "Foglalásszám": "5"
                                },
                                {
                                    "Szoba": "87",
                                    "Foglalásszám": "5"
                                },
                                {
                                    "Szoba": "88",
                                    "Foglalásszám": "5"
                                },
                                {
                                    "Szoba": "82",
                                    "Foglalásszám": "5"
                                },
                                {
                                    "Szoba": "83",
                                    "Foglalásszám": "5"
                                },
                                {
                                    "Szoba": "80",
                                    "Foglalásszám": "5"
                                },
                                {
                                    "Szoba": "52",
                                    "Foglalásszám": "5"
                                },
                                {
                                    "Szoba": "49",
                                    "Foglalásszám": "5"
                                },
                                {
                                    "Szoba": "64",
                                    "Foglalásszám": "5"
                                },
                                {
                                    "Szoba": "38",
                                    "Foglalásszám": "5"
                                },
                                {
                                    "Szoba": "42",
                                    "Foglalásszám": "5"
                                },
                                {
                                    "Szoba": "27",
                                    "Foglalásszám": "5"
                                },
                                {
                                    "Szoba": "28",
                                    "Foglalásszám": "5"
                                },
                                {
                                    "Szoba": "20",
                                    "Foglalásszám": "5"
                                },
                                {
                                    "Szoba": "8",
                                    "Foglalásszám": "5"
                                },
                                {
                                    "Szoba": "4",
                                    "Foglalásszám": "5"
                                },
                                {
                                    "Szoba": "6",
                                    "Foglalásszám": "5"
                                },
                                {
                                    "Szoba": "7",
                                    "Foglalásszám": "6"
                                },
                                {
                                    "Szoba": "35",
                                    "Foglalásszám": "6"
                                },
                                {
                                    "Szoba": "48",
                                    "Foglalásszám": "6"
                                },
                                {
                                    "Szoba": "44",
                                    "Foglalásszám": "6"
                                },
                                {
                                    "Szoba": "96",
                                    "Foglalásszám": "6"
                                },
                                {
                                    "Szoba": "94",
                                    "Foglalásszám": "6"
                                },
                                {
                                    "Szoba": "150",
                                    "Foglalásszám": "6"
                                },
                                {
                                    "Szoba": "139",
                                    "Foglalásszám": "6"
                                },
                                {
                                    "Szoba": "172",
                                    "Foglalásszám": "6"
                                },
                                {
                                    "Szoba": "187",
                                    "Foglalásszám": "6"
                                },
                                {
                                    "Szoba": "197",
                                    "Foglalásszám": "6"
                                },
                                {
                                    "Szoba": "198",
                                    "Foglalásszám": "7"
                                },
                                {
                                    "Szoba": "12",
                                    "Foglalásszám": "7"
                                },
                                {
                                    "Szoba": "1",
                                    "Foglalásszám": "7"
                                },
                                {
                                    "Szoba": "58",
                                    "Foglalásszám": "8"
                                },
                                {
                                    "Szoba": "74",
                                    "Foglalásszám": "8"
                                },
                                {
                                    "Szoba": "70",
                                    "Foglalásszám": "8"
                                },
                                {
                                    "Szoba": "89",
                                    "Foglalásszám": "8"
                                },
                                {
                                    "Szoba": "185",
                                    "Foglalásszám": "10"
                                },
                                {
                                    "Szoba": "182",
                                    "Foglalásszám": "11"
                                }
                            ]
                        },
                        "text/html": [
                            "<table>",
                            "<tr><th>Szoba</th><th>Foglalásszám</th></tr>",
                            "<tr><td>2</td><td>2</td></tr>",
                            "<tr><td>5</td><td>2</td></tr>",
                            "<tr><td>17</td><td>2</td></tr>",
                            "<tr><td>22</td><td>2</td></tr>",
                            "<tr><td>30</td><td>2</td></tr>",
                            "<tr><td>37</td><td>2</td></tr>",
                            "<tr><td>47</td><td>2</td></tr>",
                            "<tr><td>71</td><td>2</td></tr>",
                            "<tr><td>72</td><td>2</td></tr>",
                            "<tr><td>75</td><td>2</td></tr>",
                            "<tr><td>76</td><td>2</td></tr>",
                            "<tr><td>67</td><td>2</td></tr>",
                            "<tr><td>69</td><td>2</td></tr>",
                            "<tr><td>85</td><td>2</td></tr>",
                            "<tr><td>91</td><td>2</td></tr>",
                            "<tr><td>100</td><td>2</td></tr>",
                            "<tr><td>109</td><td>2</td></tr>",
                            "<tr><td>113</td><td>2</td></tr>",
                            "<tr><td>118</td><td>2</td></tr>",
                            "<tr><td>120</td><td>2</td></tr>",
                            "<tr><td>136</td><td>2</td></tr>",
                            "<tr><td>137</td><td>2</td></tr>",
                            "<tr><td>144</td><td>2</td></tr>",
                            "<tr><td>145</td><td>2</td></tr>",
                            "<tr><td>151</td><td>2</td></tr>",
                            "<tr><td>156</td><td>2</td></tr>",
                            "<tr><td>157</td><td>2</td></tr>",
                            "<tr><td>160</td><td>2</td></tr>",
                            "<tr><td>162</td><td>2</td></tr>",
                            "<tr><td>167</td><td>2</td></tr>",
                            "<tr><td>176</td><td>2</td></tr>",
                            "<tr><td>179</td><td>2</td></tr>",
                            "<tr><td>188</td><td>2</td></tr>",
                            "<tr><td>193</td><td>2</td></tr>",
                            "<tr><td>196</td><td>2</td></tr>",
                            "<tr><td>191</td><td>3</td></tr>",
                            "<tr><td>183</td><td>3</td></tr>",
                            "<tr><td>173</td><td>3</td></tr>",
                            "<tr><td>166</td><td>3</td></tr>",
                            "<tr><td>175</td><td>3</td></tr>",
                            "<tr><td>169</td><td>3</td></tr>",
                            "<tr><td>170</td><td>3</td></tr>",
                            "<tr><td>161</td><td>3</td></tr>",
                            "<tr><td>158</td><td>3</td></tr>",
                            "<tr><td>152</td><td>3</td></tr>",
                            "<tr><td>154</td><td>3</td></tr>",
                            "<tr><td>155</td><td>3</td></tr>",
                            "<tr><td>146</td><td>3</td></tr>",
                            "<tr><td>135</td><td>3</td></tr>",
                            "<tr><td>122</td><td>3</td></tr>",
                            "<tr><td>129</td><td>3</td></tr>",
                            "<tr><td>104</td><td>3</td></tr>",
                            "<tr><td>90</td><td>3</td></tr>",
                            "<tr><td>66</td><td>3</td></tr>",
                            "<tr><td>84</td><td>3</td></tr>",
                            "<tr><td>93</td><td>3</td></tr>",
                            "<tr><td>95</td><td>3</td></tr>",
                            "<tr><td>81</td><td>3</td></tr>",
                            "<tr><td>77</td><td>3</td></tr>",
                            "<tr><td>78</td><td>3</td></tr>",
                            "<tr><td>50</td><td>3</td></tr>",
                            "<tr><td>51</td><td>3</td></tr>",
                            "<tr><td>46</td><td>3</td></tr>",
                            "<tr><td>55</td><td>3</td></tr>",
                            "<tr><td>57</td><td>3</td></tr>",
                            "<tr><td>62</td><td>3</td></tr>",
                            "<tr><td>63</td><td>3</td></tr>",
                            "<tr><td>29</td><td>3</td></tr>",
                            "<tr><td>40</td><td>3</td></tr>",
                            "<tr><td>33</td><td>3</td></tr>",
                            "<tr><td>34</td><td>3</td></tr>",
                            "<tr><td>23</td><td>3</td></tr>",
                            "<tr><td>24</td><td>3</td></tr>",
                            "<tr><td>18</td><td>3</td></tr>",
                            "<tr><td>14</td><td>3</td></tr>",
                            "<tr><td>3</td><td>3</td></tr>",
                            "<tr><td>9</td><td>4</td></tr>",
                            "<tr><td>10</td><td>4</td></tr>",
                            "<tr><td>11</td><td>4</td></tr>",
                            "<tr><td>15</td><td>4</td></tr>",
                            "<tr><td>19</td><td>4</td></tr>",
                            "<tr><td>36</td><td>4</td></tr>",
                            "<tr><td>39</td><td>4</td></tr>",
                            "<tr><td>13</td><td>4</td></tr>",
                            "<tr><td>59</td><td>4</td></tr>",
                            "<tr><td>61</td><td>4</td></tr>",
                            "<tr><td>54</td><td>4</td></tr>",
                            "<tr><td>45</td><td>4</td></tr>",
                            "<tr><td>43</td><td>4</td></tr>",
                            "<tr><td>79</td><td>4</td></tr>",
                            "<tr><td>73</td><td>4</td></tr>",
                            "<tr><td>86</td><td>4</td></tr>",
                            "<tr><td>98</td><td>4</td></tr>",
                            "<tr><td>99</td><td>4</td></tr>",
                            "<tr><td>106</td><td>4</td></tr>",
                            "<tr><td>107</td><td>4</td></tr>",
                            "<tr><td>124</td><td>4</td></tr>",
                            "<tr><td>126</td><td>4</td></tr>",
                            "<tr><td>119</td><td>4</td></tr>",
                            "<tr><td>112</td><td>4</td></tr>",
                            "<tr><td>117</td><td>4</td></tr>",
                            "<tr><td>141</td><td>4</td></tr>",
                            "<tr><td>131</td><td>4</td></tr>",
                            "<tr><td>132</td><td>4</td></tr>",
                            "<tr><td>133</td><td>4</td></tr>",
                            "<tr><td>134</td><td>4</td></tr>",
                            "<tr><td>153</td><td>4</td></tr>",
                            "<tr><td>164</td><td>4</td></tr>",
                            "<tr><td>174</td><td>4</td></tr>",
                            "<tr><td>184</td><td>4</td></tr>",
                            "<tr><td>190</td><td>5</td></tr>",
                            "<tr><td>195</td><td>5</td></tr>",
                            "<tr><td>181</td><td>5</td></tr>",
                            "<tr><td>165</td><td>5</td></tr>",
                            "<tr><td>163</td><td>5</td></tr>",
                            "<tr><td>171</td><td>5</td></tr>",
                            "<tr><td>138</td><td>5</td></tr>",
                            "<tr><td>143</td><td>5</td></tr>",
                            "<tr><td>140</td><td>5</td></tr>",
                            "<tr><td>148</td><td>5</td></tr>",
                            "<tr><td>149</td><td>5</td></tr>",
                            "<tr><td>115</td><td>5</td></tr>",
                            "<tr><td>110</td><td>5</td></tr>",
                            "<tr><td>127</td><td>5</td></tr>",
                            "<tr><td>130</td><td>5</td></tr>",
                            "<tr><td>123</td><td>5</td></tr>",
                            "<tr><td>121</td><td>5</td></tr>",
                            "<tr><td>97</td><td>5</td></tr>",
                            "<tr><td>92</td><td>5</td></tr>",
                            "<tr><td>87</td><td>5</td></tr>",
                            "<tr><td>88</td><td>5</td></tr>",
                            "<tr><td>82</td><td>5</td></tr>",
                            "<tr><td>83</td><td>5</td></tr>",
                            "<tr><td>80</td><td>5</td></tr>",
                            "<tr><td>52</td><td>5</td></tr>",
                            "<tr><td>49</td><td>5</td></tr>",
                            "<tr><td>64</td><td>5</td></tr>",
                            "<tr><td>38</td><td>5</td></tr>",
                            "<tr><td>42</td><td>5</td></tr>",
                            "<tr><td>27</td><td>5</td></tr>",
                            "<tr><td>28</td><td>5</td></tr>",
                            "<tr><td>20</td><td>5</td></tr>",
                            "<tr><td>8</td><td>5</td></tr>",
                            "<tr><td>4</td><td>5</td></tr>",
                            "<tr><td>6</td><td>5</td></tr>",
                            "<tr><td>7</td><td>6</td></tr>",
                            "<tr><td>35</td><td>6</td></tr>",
                            "<tr><td>48</td><td>6</td></tr>",
                            "<tr><td>44</td><td>6</td></tr>",
                            "<tr><td>96</td><td>6</td></tr>",
                            "<tr><td>94</td><td>6</td></tr>",
                            "<tr><td>150</td><td>6</td></tr>",
                            "<tr><td>139</td><td>6</td></tr>",
                            "<tr><td>172</td><td>6</td></tr>",
                            "<tr><td>187</td><td>6</td></tr>",
                            "<tr><td>197</td><td>6</td></tr>",
                            "<tr><td>198</td><td>7</td></tr>",
                            "<tr><td>12</td><td>7</td></tr>",
                            "<tr><td>1</td><td>7</td></tr>",
                            "<tr><td>58</td><td>8</td></tr>",
                            "<tr><td>74</td><td>8</td></tr>",
                            "<tr><td>70</td><td>8</td></tr>",
                            "<tr><td>89</td><td>8</td></tr>",
                            "<tr><td>185</td><td>10</td></tr>",
                            "<tr><td>182</td><td>11</td></tr>",
                            "</table>"
                        ]
                    }
                }
            ],
            "execution_count": 4
        },
        {
            "cell_type": "markdown",
            "source": [
                "3.Feladat"
            ],
            "metadata": {
                "azdata_cell_guid": "25d530b9-ef7f-4265-8d09-d15acb6fb13c"
            },
            "attachments": {}
        },
        {
            "cell_type": "code",
            "source": [
                "SELECT\r\n",
                "    f.SZOBA_FK as 'Szoba azonosító',\r\n",
                "    YEAR(f.METTOL) as 'Év',\r\n",
                "    COUNT(*) as 'Foglalások száma'\r\n",
                "FROM Foglalas f JOIN Szoba sz ON f.SZOBA_FK = sz.SZOBA_ID\r\n",
                "WHERE sz.SZOBA_SZAMA/2 is not NULL\r\n",
                "GROUP BY f.SZOBA_FK, YEAR(f.METTOL)\r\n",
                "HAVING COUNT(*) >10"
            ],
            "metadata": {
                "azdata_cell_guid": "168760f0-381b-4e98-8969-e39ffd207e84",
                "language": "sql"
            },
            "outputs": [
                {
                    "output_type": "display_data",
                    "data": {
                        "text/html": "(1 row affected)"
                    },
                    "metadata": {}
                },
                {
                    "output_type": "display_data",
                    "data": {
                        "text/html": "Total execution time: 00:00:00.018"
                    },
                    "metadata": {}
                },
                {
                    "output_type": "execute_result",
                    "metadata": {},
                    "execution_count": 10,
                    "data": {
                        "application/vnd.dataresource+json": {
                            "schema": {
                                "fields": [
                                    {
                                        "name": "Szoba azonosító"
                                    },
                                    {
                                        "name": "Év"
                                    },
                                    {
                                        "name": "Foglalások száma"
                                    }
                                ]
                            },
                            "data": [
                                {
                                    "Szoba azonosító": "58",
                                    "Év": "2016",
                                    "Foglalások száma": "12"
                                }
                            ]
                        },
                        "text/html": [
                            "<table>",
                            "<tr><th>Szoba azonosító</th><th>Év</th><th>Foglalások száma</th></tr>",
                            "<tr><td>58</td><td>2016</td><td>12</td></tr>",
                            "</table>"
                        ]
                    }
                }
            ],
            "execution_count": 10
        }
    ]
}